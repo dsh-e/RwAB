{
 "cells": [
  {
   "cell_type": "code",
   "execution_count": null,
   "metadata": {},
   "outputs": [],
   "source": [
    "source=raw_input(\"Source of the data (GA or OWOX)?\")\n",
    "fullTableName=raw_input(\"Table Name\")\n",
    "start=raw_input(\"Start in format yyyymmdd\")\n",
    "end=raw_input(\"Start in format yyyymmdd\")\n",
    "cond=raw_input(\"list constraints using ; separation\")\n",
    "cond=cond.split(\";\")\n",
    "if (cond==''):\n",
    "    my_string='1=1'\n",
    "else: \n",
    "    my_string=' AND '.join(cond)\n",
    "if (source==\"GA\"):\n",
    "    sql=\"with meow as (select visitid ,max(hits.time)/1000 as duration ,max(totals.pageviews) as pageviews ,max(totals.bounces) as bounce ,max(totals.totaltransactionrevenue)/1000000 as revenue ,max(totals.transactions) as cnt_transactions from `{}.ga_sessions_*` ,unnest(hits) as hits where 1=1 and _table_suffix between '{}' and '{}' group by visitid) select fullvisitorid ,a.visitid ,totals.newvisits ,date ,b.duration ,b.pageviews ,b.bounce ,b.revenue ,b.cnt_transactions ,device.devicecategory ,device.operatingsystem ,device.operatingsystemversion ,geonetwork.country ,geonetwork.region ,trafficsource.campaign ,trafficsource.campaigncode ,trafficsource.source ,trafficsource.medium ,channelgrouping ,hits.type ,hits.eventinfo.eventcategory ,hits.eventinfo.eventaction ,hits.eventinfo.eventlabel ,hits.eventinfo.eventvalue ,hits.referer ,hits.page.pagepath ,customdimensions.index ,customdimensions.value ,hits.experiment.experimentid ,hits.experiment.experimentvariant /*,promotion.promocreative ,promotion.promoid ,promotion.promoname ,promotion.promoposition ,promotionactioninfo.promoisview ,promotionactioninfo.promoisclick*/ from `{}.ga_sessions_*` a ,unnest(hits) as hits ,unnest(hits.customdimensions) as customdimensions left join meow b on a.visitid=b.visitid /*,unnest(hits.promotion) as promotion ,unnest(hits.promotionactioninfo) as promotionactioninfo*/ where 1=1 and _table_suffix between '{}' and '{}' AND {}\".format(fullTableName,start,end,fullTableName,start,end,my_string)\n",
    "    print(sql)\n",
    "elif (source==\"OWOX\"):\n",
    "    sql=\"with meow as (select sessionid ,max(hits.time)/1000 as duration ,max(totals.pageviews) as pageviews ,sum(transaction.transactionrevenue) as revenue ,max(totals.transactions) as cnt_transactions ,max(totals.events) as events from `{}.owoxbi_sessions_*` ,unnest(hits) as hits where 1=1 and _table_suffix between '{}' and '{}' group by sessionid) select clientid ,a.sessionid ,newvisits ,date ,b.duration ,b.pageviews ,case when b.events<=1 then 1 else 0 end as bounce ,b.revenue ,b.cnt_transactions ,a.device.devicecategory ,a.device.operatingsystem ,a.device.operatingsystemversion ,geonetwork.country ,geonetwork.region ,trafficsource.campaign ,trafficsource.source ,trafficsource.medium ,trafficsource.channelgrouping ,hits.type ,hits.pagepath ,landingpage ,hits.eventinfo.eventcategory ,hits.eventinfo.eventaction ,hits.eventinfo.eventlabel ,hits.eventinfo.eventvalue ,hits.referer ,customdimensions.index ,customdimensions.value ,experiment.experimentid ,experiment.experimentvariant /*,hits.promotion.promocreative ,hits.promotion.promoid ,hits.promotion.promoname ,hits.promotion.promoposition ,hits.promotionactioninfo*/ from `{}.owoxbi_sessions_*` a left join meow b on a.sessionid=b.sessionid ,unnest(hits) as hits ,unnest(hits.customdimensions) as customdimensions where 1=1 and _table_suffix between '{}' and '{}' AND {}\".format(fullTableName,start,end,fullTableName,start,end,my_string)\n",
    "    print(sql)\n",
    "else:\n",
    "    print(\"Invalid source\")\n"
   ]
  }
 ],
 "metadata": {
  "kernelspec": {
   "display_name": "Python 2",
   "language": "python",
   "name": "python2"
  },
  "language_info": {
   "codemirror_mode": {
    "name": "ipython",
    "version": 2
   },
   "file_extension": ".py",
   "mimetype": "text/x-python",
   "name": "python",
   "nbconvert_exporter": "python",
   "pygments_lexer": "ipython2",
   "version": "2.7.16"
  }
 },
 "nbformat": 4,
 "nbformat_minor": 2
}
